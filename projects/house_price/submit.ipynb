{
 "cells": [
  {
   "cell_type": "markdown",
   "metadata": {},
   "source": [
    "# Load models and predict"
   ]
  },
  {
   "cell_type": "code",
   "execution_count": 5,
   "metadata": {},
   "outputs": [
    {
     "name": "stderr",
     "output_type": "stream",
     "text": [
      "/Users/hikaru/github/ds-monorepo/.venv/lib/python3.8/site-packages/tqdm/auto.py:22: TqdmWarning: IProgress not found. Please update jupyter and ipywidgets. See https://ipywidgets.readthedocs.io/en/stable/user_install.html\n",
      "  from .autonotebook import tqdm as notebook_tqdm\n"
     ]
    }
   ],
   "source": [
    "from lilac.jobs.job_base import BasicSeedJob"
   ]
  },
  {
   "cell_type": "code",
   "execution_count": 6,
   "metadata": {},
   "outputs": [],
   "source": [
    "\n",
    "params={\n",
    "    'train_path': 'data/train_v5.csv',\n",
    "    'test_path': 'data/test_v5.csv',\n",
    "    'features_dir': 'data/features/v5',\n",
    "    'target_col': 'price_log',\n",
    "    'base_col': 'area_log',\n",
    "    'depth': 8,\n",
    "    'min_child_samples': 200,\n",
    "    'folds_gen_str': 'group',\n",
    "    'group_key_col': 'ordered',\n",
    "    'evaluator_str': 'mae',\n",
    "    'unused_cols': ['id', 'ordered', 'built_year', 'area', 'nearest_min', 'age'],\n",
    "    'target_enc_cols': ['nearest_sta', 'district'],\n",
    "    'log_target_on_target_enc': False,\n",
    "    'features_settings': [\n",
    "        {\n",
    "            'model_str': 'group',\n",
    "            'params': {\n",
    "                'group_keys': ['city', 'district', 'nearest_sta'],\n",
    "                'agg_func_list': ['mean'],\n",
    "                'input_cols': ['built_year_seireki','area','nearest_min','age','area_log','nearest_min_log','age_log']\n",
    "                }\n",
    "        },\n",
    "        {\n",
    "            'model_str': 'cat_lda',\n",
    "            'params': {'main_col': 'city', 'sub_col': 'layout', 'num_topics': 5}\n",
    "        },\n",
    "        {\n",
    "            'model_str': 'diff_group',\n",
    "            'params': {'group_key': 'district',\n",
    "            'input_cols': ['built_year_seireki', 'area_log', 'nearest_min_log']}\n",
    "        }\n",
    "    ],\n",
    "    \"pred_only\": True\n",
    "}"
   ]
  },
  {
   "cell_type": "code",
   "execution_count": null,
   "metadata": {},
   "outputs": [],
   "source": [
    "data_path=\"data/models\"\n",
    "experiment_flag = \"submit2\"\n",
    "job_names=[\"lgbm_diff_mae_42\",\"lgbm_diff_mae_43\",\"lgbm_mae_42\",\"lgbm_mae_43\"]\n",
    "model_dirs = [f\"{data_path}/{experiment_flag}/{job_name}\" for job_name in job_names]\n",
    "seeds=[42,43,42,43]\n",
    "models = [\"lgbm_diff_mae\",\"lgbm_diff_mae\",\"lgbm_mae\",\"lgbm_mae\"]\n",
    "\n",
    "preds=[]\n",
    "for model_dir, seed, model_str in zip(model_dirs,seeds,models):\n",
    "    params[\"model_dir\"]=model_dir\n",
    "    params[\"seed\"]=seed\n",
    "    params[\"model_str\"]= model_str\n",
    "    output=BasicSeedJob(**params).run()\n",
    "    pred=output[\"pred\"]\n",
    "    preds.append(pred)"
   ]
  },
  {
   "cell_type": "code",
   "execution_count": null,
   "metadata": {},
   "outputs": [],
   "source": [
    "import numpy as np\n",
    "\n",
    "pred=np.array(preds).mean(axis=0)"
   ]
  },
  {
   "cell_type": "code",
   "execution_count": 3,
   "metadata": {},
   "outputs": [],
   "source": [
    "# 入賞した提出ファイルを読み込む\n",
    "import pandas as pd\n",
    "\n",
    "subs=pd.read_csv(\"data/subs/063.csv\")"
   ]
  },
  {
   "cell_type": "code",
   "execution_count": 4,
   "metadata": {},
   "outputs": [
    {
     "data": {
      "text/html": [
       "<div>\n",
       "<style scoped>\n",
       "    .dataframe tbody tr th:only-of-type {\n",
       "        vertical-align: middle;\n",
       "    }\n",
       "\n",
       "    .dataframe tbody tr th {\n",
       "        vertical-align: top;\n",
       "    }\n",
       "\n",
       "    .dataframe thead th {\n",
       "        text-align: right;\n",
       "    }\n",
       "</style>\n",
       "<table border=\"1\" class=\"dataframe\">\n",
       "  <thead>\n",
       "    <tr style=\"text-align: right;\">\n",
       "      <th></th>\n",
       "      <th>ID</th>\n",
       "      <th>取引価格（総額）_log</th>\n",
       "    </tr>\n",
       "  </thead>\n",
       "  <tbody>\n",
       "    <tr>\n",
       "      <th>0</th>\n",
       "      <td>1000117</td>\n",
       "      <td>6.767225</td>\n",
       "    </tr>\n",
       "    <tr>\n",
       "      <th>1</th>\n",
       "      <td>1000119</td>\n",
       "      <td>7.353071</td>\n",
       "    </tr>\n",
       "    <tr>\n",
       "      <th>2</th>\n",
       "      <td>1000379</td>\n",
       "      <td>7.726071</td>\n",
       "    </tr>\n",
       "    <tr>\n",
       "      <th>3</th>\n",
       "      <td>1000382</td>\n",
       "      <td>6.941047</td>\n",
       "    </tr>\n",
       "    <tr>\n",
       "      <th>4</th>\n",
       "      <td>1000385</td>\n",
       "      <td>6.548578</td>\n",
       "    </tr>\n",
       "    <tr>\n",
       "      <th>...</th>\n",
       "      <td>...</td>\n",
       "      <td>...</td>\n",
       "    </tr>\n",
       "    <tr>\n",
       "      <th>21002</th>\n",
       "      <td>47006115</td>\n",
       "      <td>6.960310</td>\n",
       "    </tr>\n",
       "    <tr>\n",
       "      <th>21003</th>\n",
       "      <td>47006186</td>\n",
       "      <td>7.400698</td>\n",
       "    </tr>\n",
       "    <tr>\n",
       "      <th>21004</th>\n",
       "      <td>47006549</td>\n",
       "      <td>7.394586</td>\n",
       "    </tr>\n",
       "    <tr>\n",
       "      <th>21005</th>\n",
       "      <td>47006712</td>\n",
       "      <td>7.514760</td>\n",
       "    </tr>\n",
       "    <tr>\n",
       "      <th>21006</th>\n",
       "      <td>47007891</td>\n",
       "      <td>7.627892</td>\n",
       "    </tr>\n",
       "  </tbody>\n",
       "</table>\n",
       "<p>21007 rows × 2 columns</p>\n",
       "</div>"
      ],
      "text/plain": [
       "             ID  取引価格（総額）_log\n",
       "0       1000117      6.767225\n",
       "1       1000119      7.353071\n",
       "2       1000379      7.726071\n",
       "3       1000382      6.941047\n",
       "4       1000385      6.548578\n",
       "...         ...           ...\n",
       "21002  47006115      6.960310\n",
       "21003  47006186      7.400698\n",
       "21004  47006549      7.394586\n",
       "21005  47006712      7.514760\n",
       "21006  47007891      7.627892\n",
       "\n",
       "[21007 rows x 2 columns]"
      ]
     },
     "execution_count": 4,
     "metadata": {},
     "output_type": "execute_result"
    }
   ],
   "source": [
    "# subsとpredを比較\n"
   ]
  },
  {
   "cell_type": "code",
   "execution_count": null,
   "metadata": {},
   "outputs": [],
   "source": []
  }
 ],
 "metadata": {
  "interpreter": {
   "hash": "cbd86f31783cca70399c6c48c3f5bc4290f66e841790a87d1477b9f5b727528a"
  },
  "kernelspec": {
   "display_name": "Python 3.8.11 ('.venv': poetry)",
   "language": "python",
   "name": "python3"
  },
  "language_info": {
   "codemirror_mode": {
    "name": "ipython",
    "version": 3
   },
   "file_extension": ".py",
   "mimetype": "text/x-python",
   "name": "python",
   "nbconvert_exporter": "python",
   "pygments_lexer": "ipython3",
   "version": "3.8.11"
  },
  "orig_nbformat": 4
 },
 "nbformat": 4,
 "nbformat_minor": 2
}
