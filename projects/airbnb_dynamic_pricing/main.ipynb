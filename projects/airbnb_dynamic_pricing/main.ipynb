{
 "cells": [
  {
   "cell_type": "code",
   "execution_count": 3,
   "metadata": {},
   "outputs": [
    {
     "name": "stderr",
     "output_type": "stream",
     "text": [
      "/Users/hikaru/github/ds-monorepo/.venv/lib/python3.8/site-packages/tqdm/auto.py:22: TqdmWarning: IProgress not found. Please update jupyter and ipywidgets. See https://ipywidgets.readthedocs.io/en/stable/user_install.html\n",
      "  from .autonotebook import tqdm as notebook_tqdm\n"
     ]
    }
   ],
   "source": [
    "import pandas as pd\n",
    "from custom.feature_generators import ReviewedMonth,MinNightsAvailability,PreprocessName,RulebaseName\n",
    "from tools.core.blocks import BlocksRunner\n",
    "\n",
    "def main(seed, settings,depth,unused_cols,train,test):\n",
    "    target_col = \"y\"\n",
    "    evaluator_flag = \"rmsle\"\n",
    "    features_dir = \"data/features\"\n",
    "\n",
    "    trainer_params = {\n",
    "        \"model_str\": \"basic\",\n",
    "        \"target_col\": target_col,\n",
    "        \"params\": None,\n",
    "        \"seed\" : seed\n",
    "    }\n",
    "\n",
    "    folds_gen_settings={\n",
    "        \"fold_num\" : 5,\n",
    "        \"model_str\" : \"group\", # kfold, stratified, group, stratified_group\n",
    "        \"seed\": seed,\n",
    "        \"params\" : {\"target_col\": \"y\", \"key_col\": \"host_id\"}\n",
    "    }\n",
    "\n",
    "    model_params  = {\n",
    "        \"model_str\": \"lgbm_rmsle\",\n",
    "        \"target_col\": target_col, \n",
    "        \"params\":None, \n",
    "        \"depth\":depth,\n",
    "        \"n_estimators\":100000, \n",
    "        \"seed\":seed\n",
    "    }\n",
    "\n",
    "    custom_members={\n",
    "        \"reviewed_month\": ReviewedMonth,\n",
    "        \"min_nights_availability\": MinNightsAvailability,\n",
    "        \"rulebase_name\":RulebaseName,\n",
    "        \"preprocess_name\":  PreprocessName\n",
    "    }\n",
    "    \n",
    "    blocks_runner=BlocksRunner(target_col=target_col,features_dir=features_dir,custom_members=custom_members, features_settings= settings,unused_cols=unused_cols, \n",
    "    folds_gen_settings=folds_gen_settings,model_params=model_params,trainer_params=trainer_params,evaluator_flag=evaluator_flag)\n",
    "\n",
    "    return blocks_runner.run(train,test)\n",
    "\n"
   ]
  },
  {
   "cell_type": "code",
   "execution_count": 4,
   "metadata": {},
   "outputs": [],
   "source": [
    "seed = 18\n",
    "depth=8\n",
    "unused_cols = [\"id\",\"host_id\",\"name\",\"last_review\",\"last_review_day\"]\n",
    "settings = [\n",
    "        # カテゴリ系\n",
    "        #{\n",
    "        #    \"model_str\": \"pipeline\", \n",
    "        #    \"params\": {\n",
    "        #        \"feature_generators\":[\n",
    "        #            {\"model_str\": \"extra_join\", \"params\": {\"csv_path\":\"data/nearest_station.csv\",\"join_on\":\"id\"}},\n",
    "        #            {\"model_str\": \"target\", \"params\": {\"encoder_str\":\"catb\", \"target_col\": \"y\",\"input_cols\": [\"station_name\",\"room_type\",\"neighbourhood\"]}}\n",
    "        #        ]\n",
    "        #    }\n",
    "        #}, \n",
    "        #{\"model_str\": \"category\", \"params\":{\"encoder_str\": \"count\",\"input_cols\": [\"host_id\"]}},\n",
    "        # 自然言語処理\n",
    "        {\"model_str\": \"datetime\",\"params\":{\"input_col\": \"last_review\"}},\n",
    "        {\n",
    "            \"model_str\": \"pipeline\", \n",
    "            \"params\": {\n",
    "                \"feature_generators\":[\n",
    "                    {\"model_str\": \"preprocess_name\"},\n",
    "                    {\"model_str\": \"wc_vec\", \"params\": {\"input_col\": \"name_preprocessed\", \"vectorizer_str\":\"tfidf\", \"decomposer_str\":\"svd\", \"n_components\":32,\"random_state\":42}},\n",
    "                ]\n",
    "            }\n",
    "        },\n",
    "        {\n",
    "            \"model_str\": \"pipeline\", \n",
    "            \"params\": {\n",
    "                \"feature_generators\":[\n",
    "                    {\"model_str\": \"preprocess_name\"},\n",
    "                    {\"model_str\": \"wc_vec\", \"params\": {\"input_col\": \"name_preprocessed\", \"vectorizer_str\":\"tfidf\", \"decomposer_str\":\"nmf\", \"n_components\":10,\"random_state\":42}},\n",
    "                ]\n",
    "            }\n",
    "        },\n",
    "        {\n",
    "            \"model_str\": \"pipeline\", \n",
    "            \"params\": {\n",
    "                \"feature_generators\":[\n",
    "                    {\"model_str\": \"preprocess_name\"},\n",
    "                    {\"model_str\": \"wc_vec\", \"params\": {\"input_col\": \"name_preprocessed\", \"vectorizer_str\":\"bow\", \"decomposer_str\":\"svd\", \"n_components\":32,\"random_state\":42}},\n",
    "                ]\n",
    "            }\n",
    "        },\n",
    "        {\n",
    "            \"model_str\": \"pipeline\", \n",
    "            \"params\": {\n",
    "                \"feature_generators\":[\n",
    "                    {\"model_str\": \"preprocess_name\"},\n",
    "                    {\"model_str\": \"wc_vec\", \"params\": {\"input_col\": \"name_preprocessed\", \"vectorizer_str\":\"bow\", \"decomposer_str\":\"nmf\", \"n_components\":10,\"random_state\":42}},\n",
    "                ]\n",
    "            }\n",
    "        },\n",
    "        #{\"model_str\": \"wc_vec\", \"params\": {\"input_col\": \"name\", \"vectorizer_str\":\"tfidf\", \"decomposer_str\":\"svd\", \"n_components\":32,\"random_state\":42}},\n",
    "        #{\"model_str\": \"wc_vec\", \"params\": {\"input_col\": \"name\", \"vectorizer_str\":\"tfidf\", \"decomposer_str\":\"nmf\", \"n_components\":10,\"random_state\":42}},\n",
    "        #{\"model_str\": \"wc_vec\", \"params\": {\"input_col\": \"name\", \"vectorizer_str\":\"bow\", \"decomposer_str\":\"svd\", \"n_components\":32,\"random_state\":42}},\n",
    "        #{\"model_str\": \"wc_vec\", \"params\": {\"input_col\": \"name\", \"vectorizer_str\":\"bow\", \"decomposer_str\":\"nmf\", \"n_components\":10,\"random_state\":42}},\n",
    "        #{\"model_str\": \"bert\", \"params\": {\"input_col\": \"name\",  \"max_len\":128}},\n",
    "        {\n",
    "            \"model_str\": \"pipeline\", \n",
    "            \"params\": {\n",
    "                \"use_prev_only\": True,\n",
    "                \"feature_generators\":[\n",
    "                    {\"model_str\": \"preprocess_name\"},\n",
    "                    {\"model_str\": \"bert\", \"params\": {\"model_name\": \"bert-base-multilingual-uncased\", \"input_col\": \"name_preprocessed\",  \"max_len\":128}},\n",
    "                    {\"model_str\": \"dec\", \"params\": {\"decomposer_str\": \"pca\",\"n_components\":20,\"random_state\":42,\"col_mark\":\"bert\"}},\n",
    "                ]\n",
    "            }\n",
    "        },\n",
    "        {\n",
    "            \"model_str\": \"pipeline\", \n",
    "            \"params\": {\n",
    "                \"use_prev_only\": True,\n",
    "                \"feature_generators\":[\n",
    "                    {\"model_str\": \"preprocess_name\"},\n",
    "                    {\"model_str\": \"bert\", \"params\": {\"model_name\": \"bert-base-multilingual-uncased\", \"input_col\": \"name_preprocessed\",  \"max_len\":128}},\n",
    "                    {\"model_str\": \"dec\", \"params\": {\"decomposer_str\": \"umap\",\"n_components\":10,\"random_state\":42,\"col_mark\":\"bert\"}},\n",
    "                ]\n",
    "            }\n",
    "        },\n",
    "        {\n",
    "            \"model_str\": \"pipeline\", \n",
    "            \"params\": {\n",
    "                \"feature_generators\":[\n",
    "                    {\"model_str\": \"preprocess_name\"},\n",
    "                    {\"model_str\": \"rulebase_name\"}\n",
    "                ]\n",
    "            }\n",
    "        },\n",
    "        # 駅関連\n",
    "        {\"model_str\": \"extra_join\", \"params\": {\"csv_path\":\"data/nearest_station.csv\",\"join_on\":\"id\"}},\n",
    "        {\"model_str\": \"extra_join\", \"params\": {\"csv_path\":\"data/dist_under_counts.csv\",\"join_on\":\"id\"}},\n",
    "        {\"model_str\": \"extra_join\", \"params\": {\"csv_path\":\"data/nearest_terminal.csv\",\"join_on\":\"id\"}},\n",
    "        #{\n",
    "        #    \"model_str\": \"pipeline\", \n",
    "        #    \"params\": {\n",
    "        #        \"use_previous_cols\": True,\n",
    "        #        \"feature_generators\":[\n",
    "        #            {\"model_str\": \"extra_join\", \"params\": {\"csv_path\":\"data/dist_under_counts.csv\",\"join_on\":\"id\"}},\n",
    "        #            {\"model_str\": \"pca\", \"params\": {\"n_components\":3,\"random_state\":42,\"col_mark\":\"dist_under_counts\"}},\n",
    "        #        ]\n",
    "        #    }\n",
    "        #},\n",
    "        {\"model_str\": \"cluster\", \"params\": {\"input_cols\": [\"latitude\",\"longitude\"], \"model_str\":\"gmm\", \"n_clusters\":10,\"random_state\":42}},\n",
    "        {\"model_str\": \"cluster\", \"params\": {\"input_cols\": [\"latitude\",\"longitude\"], \"model_str\":\"kmeans\", \"n_clusters\":10,\"random_state\":42}},\n",
    "        {\n",
    "            \"model_str\": \"pipeline\", \n",
    "            \"params\": {\n",
    "                \"feature_generators\":[\n",
    "                    {\"model_str\": \"extra_join\", \"params\": {\"csv_path\":\"data/nearest_station.csv\",\"join_on\":\"id\"}},\n",
    "                    {\"model_str\": \"cluster\", \"params\": {\"input_cols\": [\"sta_latitude\",\"sta_longitude\"], \"model_str\":\"kmeans\", \"n_clusters\":10,\"random_state\":42}}\n",
    "                ]\n",
    "            }\n",
    "        },\n",
    "        {\n",
    "            \"model_str\": \"pipeline\", \n",
    "            \"params\": {\n",
    "                \"feature_generators\":[\n",
    "                    {\"model_str\": \"extra_join\", \"params\": {\"csv_path\":\"data/nearest_station.csv\",\"join_on\":\"id\"}},\n",
    "                    {\"model_str\": \"cluster\", \"params\": {\"input_cols\": [\"sta_latitude\",\"sta_longitude\"], \"model_str\":\"gmm\", \"n_clusters\":10,\"random_state\":42}}\n",
    "                ]\n",
    "            }\n",
    "        },\n",
    "        # 集約特徴量\n",
    "        #{\"model_str\": \"group\", \"params\":{\"group_key\": \"neighbourhood\",\"input_cols\": [\"minimum_nights\", \"number_of_reviews\", \"reviews_per_month\",\"availability_365\"]}},\n",
    "        #{\n",
    "        #    \"model_str\": \"pipeline\", \n",
    "        #    \"params\": {\n",
    "        #        \"feature_generators\":[\n",
    "        #            {\"model_str\": \"extra_join\", \"params\": {\"csv_path\":\"data/nearest_station.csv\",\"join_on\":\"id\"}},\n",
    "        #            {\"model_str\": \"group\", \"params\":{\"group_key\": \"station_name\",\"input_cols\": [\"minimum_nights\", \"number_of_reviews\", \"reviews_per_month\",\"availability_365\"]}},\n",
    "        #        ]\n",
    "        #    }\n",
    "        #},\n",
    "        #{\"model_str\": \"group\", \"params\":{\"group_key\": \"room_type\",\"input_cols\": [\"minimum_nights\", \"number_of_reviews\", \"reviews_per_month\",\"availability_365\"]}},\n",
    "        #{\"model_str\": \"group\", \"params\":{\"group_key\": \"host_id\",\"input_cols\": [\"minimum_nights\", \"number_of_reviews\", \"reviews_per_month\",\"availability_365\"]}},\n",
    "        #{\n",
    "        #    \"model_str\": \"pipeline\", \n",
    "        #    \"params\": {\n",
    "        #        \"use_prev_only\": True,\n",
    "        #        \"feature_generators\":[\n",
    "        #            {\"model_str\": \"group\", \"params\":{\"group_key\": \"host_id\",\"input_cols\": [\"minimum_nights\", \"number_of_reviews\", \"availability_365\"]}},\n",
    "        #            {\"model_str\": \"dec\", \"params\": {\"decomposer_str\": \"umap\",\"n_components\":10,\"random_state\":42,\"col_mark\":\"host_group\"}},\n",
    "        #        ]\n",
    "        #    }\n",
    "        #},\n",
    "        {\n",
    "            \"model_str\": \"pipeline\", \n",
    "            \"params\": {\n",
    "                \"use_prev_only\": [False,True],\n",
    "                \"feature_generators\":[\n",
    "                    {\"model_str\": \"extra_join\", \"params\": {\"csv_path\":\"data/nearest_station.csv\",\"join_on\":\"id\"}},\n",
    "                    {\"model_str\": \"group\", \"params\":{\"group_key\": \"station_name\",\"input_cols\": [\"minimum_nights\", \"number_of_reviews\", \"availability_365\"]}},\n",
    "                    {\"model_str\": \"dec\", \"params\": {\"decomposer_str\": \"umap\",\"n_components\":10,\"random_state\":42,\"col_mark\":\"station_group\"}},\n",
    "                ]\n",
    "            }\n",
    "        },\n",
    "        # その他\n",
    "        {\"model_str\": \"reviewed_month\"},\n",
    "        #{\"model_str\": \"min_nights_availability\"},\n",
    "    ]\n",
    "train=pd.read_csv(\"data/train_data.csv\")\n",
    "test=pd.read_csv(\"data/test_data.csv\")\n",
    "\n",
    "\n",
    "#output=main(seed=seed,settings=settings,depth=depth,unused_cols=unused_cols,train=train,test=test)\n",
    "#output[\"score\"]"
   ]
  },
  {
   "cell_type": "code",
   "execution_count": 5,
   "metadata": {},
   "outputs": [
    {
     "name": "stdout",
     "output_type": "stream",
     "text": [
      "[WARNING] parameter 'use_prev_only' is not specified for 'pipeline'. So default will be used.\n",
      "[WARNING] parameter 'use_prev_only' is not specified for 'pipeline'. So default will be used.\n",
      "[WARNING] parameter 'use_prev_only' is not specified for 'pipeline'. So default will be used.\n",
      "[WARNING] parameter 'use_prev_only' is not specified for 'pipeline'. So default will be used.\n",
      "[WARNING] parameter 'input_cols' is not specified for 'dec'. So default will be used.\n",
      "[WARNING] parameter 'input_cols' is not specified for 'dec'. So default will be used.\n",
      "[WARNING] parameter 'use_prev_only' is not specified for 'pipeline'. So default will be used.\n",
      "[WARNING] parameter 'use_prev_only' is not specified for 'pipeline'. So default will be used.\n",
      "[WARNING] parameter 'use_prev_only' is not specified for 'pipeline'. So default will be used.\n",
      "[WARNING] parameter 'input_cols' is not specified for 'dec'. So default will be used.\n",
      "[1/17] DatetimeFeatures\n",
      "Loading DatetimeFeatures_90d1adf771e1730a7212eb9a7a7b0d3e (train)...\n",
      "Loading DatetimeFeatures_90d1adf771e1730a7212eb9a7a7b0d3e (test)...\n",
      "[2/17] FeaturesPipeline\n",
      "Loading WordCountVectorizer_by_pipeline_5c2e5e9f6d8264592dcca4f3af6d1b50 (train)...\n",
      "Loading WordCountVectorizer_by_pipeline_5c2e5e9f6d8264592dcca4f3af6d1b50 (test)...\n",
      "[3/17] FeaturesPipeline\n",
      "Loading WordCountVectorizer_by_pipeline_87d2e943b5b0f59fd4da386de6f0ba51 (train)...\n",
      "Loading WordCountVectorizer_by_pipeline_87d2e943b5b0f59fd4da386de6f0ba51 (test)...\n",
      "[4/17] FeaturesPipeline\n",
      "Loading WordCountVectorizer_by_pipeline_37472898aeef2a25348b77118eb04d65 (train)...\n",
      "Loading WordCountVectorizer_by_pipeline_37472898aeef2a25348b77118eb04d65 (test)...\n",
      "[5/17] FeaturesPipeline\n",
      "Loading WordCountVectorizer_by_pipeline_03cf258cfb18d14d5b780696814ac6ae (train)...\n",
      "Loading WordCountVectorizer_by_pipeline_03cf258cfb18d14d5b780696814ac6ae (test)...\n",
      "[6/17] FeaturesPipeline\n",
      "Loading DecompositionFeatures_by_pipeline_f1bdab22b4e687e4e2843153dde1b411 (train)...\n",
      "Loading DecompositionFeatures_by_pipeline_f1bdab22b4e687e4e2843153dde1b411 (test)...\n",
      "[7/17] FeaturesPipeline\n",
      "Loading DecompositionFeatures_by_pipeline_b28598605079ebf2b1da7d8e506fa055 (train)...\n",
      "Loading DecompositionFeatures_by_pipeline_b28598605079ebf2b1da7d8e506fa055 (test)...\n",
      "[8/17] FeaturesPipeline\n",
      "Loading RulebaseName_by_pipeline_5e7c2c12a962cd3598493ba7310d24b3 (train)...\n",
      "Loading RulebaseName_by_pipeline_5e7c2c12a962cd3598493ba7310d24b3 (test)...\n",
      "[9/17] ExtraTableJoin\n",
      "Loading ExtraTableJoin_8d52a52c3062340cf1583c44eb28f176 (train)...\n",
      "Loading ExtraTableJoin_8d52a52c3062340cf1583c44eb28f176 (test)...\n",
      "[10/17] ExtraTableJoin\n",
      "Loading ExtraTableJoin_6b76d80ae98aabd50542b709bc8a27d6 (train)...\n",
      "Loading ExtraTableJoin_6b76d80ae98aabd50542b709bc8a27d6 (test)...\n",
      "[11/17] ExtraTableJoin\n",
      "Loading ExtraTableJoin_33e66102c7f4ffa09dc008d33f8861d0 (train)...\n",
      "Loading ExtraTableJoin_33e66102c7f4ffa09dc008d33f8861d0 (test)...\n",
      "[12/17] ClusteringFeatures\n",
      "Loading ClusteringFeatures_0b7c5d52729b0937cc3a6271b54f909c (train)...\n",
      "Loading ClusteringFeatures_0b7c5d52729b0937cc3a6271b54f909c (test)...\n",
      "[13/17] ClusteringFeatures\n",
      "Loading ClusteringFeatures_2e7edbacabe5a911173c55eb90445ba1 (train)...\n",
      "Loading ClusteringFeatures_2e7edbacabe5a911173c55eb90445ba1 (test)...\n",
      "[14/17] FeaturesPipeline\n",
      "Loading ClusteringFeatures_by_pipeline_44035df4ea66c188fa6088086b8a541e (train)...\n",
      "Loading ClusteringFeatures_by_pipeline_44035df4ea66c188fa6088086b8a541e (test)...\n",
      "[15/17] FeaturesPipeline\n",
      "Loading ClusteringFeatures_by_pipeline_068b6d1de9328042fb5a23855a0fdf59 (train)...\n",
      "Loading ClusteringFeatures_by_pipeline_068b6d1de9328042fb5a23855a0fdf59 (test)...\n",
      "[16/17] FeaturesPipeline\n",
      "Loading DecompositionFeatures_by_pipeline_f9d8ada17025bc003421df2ae38a9742 (train)...\n",
      "Loading DecompositionFeatures_by_pipeline_f9d8ada17025bc003421df2ae38a9742 (test)...\n",
      "[17/17] ReviewedMonth\n",
      "Loading ReviewedMonth_99914b932bd37a50b983c5e7c90ae93b (train)...\n",
      "Loading ReviewedMonth_99914b932bd37a50b983c5e7c90ae93b (test)...\n",
      "Fold : 1\n"
     ]
    },
    {
     "name": "stderr",
     "output_type": "stream",
     "text": [
      "/Users/hikaru/github/ds-monorepo/.venv/lib/python3.8/site-packages/lightgbm/sklearn.py:726: UserWarning: 'early_stopping_rounds' argument is deprecated and will be removed in a future release of LightGBM. Pass 'early_stopping()' callback via 'callbacks' argument instead.\n",
      "  _log_warning(\"'early_stopping_rounds' argument is deprecated and will be removed in a future release of LightGBM. \"\n",
      "/Users/hikaru/github/ds-monorepo/.venv/lib/python3.8/site-packages/lightgbm/sklearn.py:736: UserWarning: 'verbose' argument is deprecated and will be removed in a future release of LightGBM. Pass 'log_evaluation()' callback via 'callbacks' argument instead.\n",
      "  _log_warning(\"'verbose' argument is deprecated and will be removed in a future release of LightGBM. \"\n"
     ]
    },
    {
     "name": "stdout",
     "output_type": "stream",
     "text": [
      "[100]\ttrain's rmse: 0.453196\tvalid's rmse: 0.728179\n",
      "Fold : 2\n"
     ]
    },
    {
     "name": "stderr",
     "output_type": "stream",
     "text": [
      "/Users/hikaru/github/ds-monorepo/.venv/lib/python3.8/site-packages/lightgbm/sklearn.py:726: UserWarning: 'early_stopping_rounds' argument is deprecated and will be removed in a future release of LightGBM. Pass 'early_stopping()' callback via 'callbacks' argument instead.\n",
      "  _log_warning(\"'early_stopping_rounds' argument is deprecated and will be removed in a future release of LightGBM. \"\n",
      "/Users/hikaru/github/ds-monorepo/.venv/lib/python3.8/site-packages/lightgbm/sklearn.py:736: UserWarning: 'verbose' argument is deprecated and will be removed in a future release of LightGBM. Pass 'log_evaluation()' callback via 'callbacks' argument instead.\n",
      "  _log_warning(\"'verbose' argument is deprecated and will be removed in a future release of LightGBM. \"\n"
     ]
    },
    {
     "name": "stdout",
     "output_type": "stream",
     "text": [
      "[100]\ttrain's rmse: 0.429483\tvalid's rmse: 0.980015\n",
      "Fold : 3\n"
     ]
    },
    {
     "name": "stderr",
     "output_type": "stream",
     "text": [
      "/Users/hikaru/github/ds-monorepo/.venv/lib/python3.8/site-packages/lightgbm/sklearn.py:726: UserWarning: 'early_stopping_rounds' argument is deprecated and will be removed in a future release of LightGBM. Pass 'early_stopping()' callback via 'callbacks' argument instead.\n",
      "  _log_warning(\"'early_stopping_rounds' argument is deprecated and will be removed in a future release of LightGBM. \"\n",
      "/Users/hikaru/github/ds-monorepo/.venv/lib/python3.8/site-packages/lightgbm/sklearn.py:736: UserWarning: 'verbose' argument is deprecated and will be removed in a future release of LightGBM. Pass 'log_evaluation()' callback via 'callbacks' argument instead.\n",
      "  _log_warning(\"'verbose' argument is deprecated and will be removed in a future release of LightGBM. \"\n"
     ]
    },
    {
     "name": "stdout",
     "output_type": "stream",
     "text": [
      "[100]\ttrain's rmse: 0.447819\tvalid's rmse: 0.763117\n",
      "[200]\ttrain's rmse: 0.337735\tvalid's rmse: 0.765358\n",
      "Fold : 4\n"
     ]
    },
    {
     "name": "stderr",
     "output_type": "stream",
     "text": [
      "/Users/hikaru/github/ds-monorepo/.venv/lib/python3.8/site-packages/lightgbm/sklearn.py:726: UserWarning: 'early_stopping_rounds' argument is deprecated and will be removed in a future release of LightGBM. Pass 'early_stopping()' callback via 'callbacks' argument instead.\n",
      "  _log_warning(\"'early_stopping_rounds' argument is deprecated and will be removed in a future release of LightGBM. \"\n",
      "/Users/hikaru/github/ds-monorepo/.venv/lib/python3.8/site-packages/lightgbm/sklearn.py:736: UserWarning: 'verbose' argument is deprecated and will be removed in a future release of LightGBM. Pass 'log_evaluation()' callback via 'callbacks' argument instead.\n",
      "  _log_warning(\"'verbose' argument is deprecated and will be removed in a future release of LightGBM. \"\n"
     ]
    },
    {
     "name": "stdout",
     "output_type": "stream",
     "text": [
      "[100]\ttrain's rmse: 0.447434\tvalid's rmse: 0.821161\n",
      "[200]\ttrain's rmse: 0.337396\tvalid's rmse: 0.82245\n",
      "Fold : 5\n"
     ]
    },
    {
     "name": "stderr",
     "output_type": "stream",
     "text": [
      "/Users/hikaru/github/ds-monorepo/.venv/lib/python3.8/site-packages/lightgbm/sklearn.py:726: UserWarning: 'early_stopping_rounds' argument is deprecated and will be removed in a future release of LightGBM. Pass 'early_stopping()' callback via 'callbacks' argument instead.\n",
      "  _log_warning(\"'early_stopping_rounds' argument is deprecated and will be removed in a future release of LightGBM. \"\n",
      "/Users/hikaru/github/ds-monorepo/.venv/lib/python3.8/site-packages/lightgbm/sklearn.py:736: UserWarning: 'verbose' argument is deprecated and will be removed in a future release of LightGBM. Pass 'log_evaluation()' callback via 'callbacks' argument instead.\n",
      "  _log_warning(\"'verbose' argument is deprecated and will be removed in a future release of LightGBM. \"\n"
     ]
    },
    {
     "name": "stdout",
     "output_type": "stream",
     "text": [
      "[100]\ttrain's rmse: 0.444912\tvalid's rmse: 0.771827\n",
      "[200]\ttrain's rmse: 0.333498\tvalid's rmse: 0.77039\n",
      "[WARNING] parameter 'use_prev_only' is not specified for 'pipeline'. So default will be used.\n",
      "[WARNING] parameter 'use_prev_only' is not specified for 'pipeline'. So default will be used.\n",
      "[WARNING] parameter 'use_prev_only' is not specified for 'pipeline'. So default will be used.\n",
      "[WARNING] parameter 'use_prev_only' is not specified for 'pipeline'. So default will be used.\n",
      "[WARNING] parameter 'input_cols' is not specified for 'dec'. So default will be used.\n",
      "[WARNING] parameter 'input_cols' is not specified for 'dec'. So default will be used.\n",
      "[WARNING] parameter 'use_prev_only' is not specified for 'pipeline'. So default will be used.\n",
      "[WARNING] parameter 'use_prev_only' is not specified for 'pipeline'. So default will be used.\n",
      "[WARNING] parameter 'use_prev_only' is not specified for 'pipeline'. So default will be used.\n",
      "[WARNING] parameter 'input_cols' is not specified for 'dec'. So default will be used.\n",
      "[1/17] DatetimeFeatures\n",
      "Loading DatetimeFeatures_90d1adf771e1730a7212eb9a7a7b0d3e (train)...\n",
      "Loading DatetimeFeatures_90d1adf771e1730a7212eb9a7a7b0d3e (test)...\n",
      "[2/17] FeaturesPipeline\n",
      "Loading WordCountVectorizer_by_pipeline_5c2e5e9f6d8264592dcca4f3af6d1b50 (train)...\n",
      "Loading WordCountVectorizer_by_pipeline_5c2e5e9f6d8264592dcca4f3af6d1b50 (test)...\n",
      "[3/17] FeaturesPipeline\n",
      "Loading WordCountVectorizer_by_pipeline_87d2e943b5b0f59fd4da386de6f0ba51 (train)...\n",
      "Loading WordCountVectorizer_by_pipeline_87d2e943b5b0f59fd4da386de6f0ba51 (test)...\n",
      "[4/17] FeaturesPipeline\n",
      "Loading WordCountVectorizer_by_pipeline_37472898aeef2a25348b77118eb04d65 (train)...\n",
      "Loading WordCountVectorizer_by_pipeline_37472898aeef2a25348b77118eb04d65 (test)...\n",
      "[5/17] FeaturesPipeline\n",
      "Loading WordCountVectorizer_by_pipeline_03cf258cfb18d14d5b780696814ac6ae (train)...\n",
      "Loading WordCountVectorizer_by_pipeline_03cf258cfb18d14d5b780696814ac6ae (test)...\n",
      "[6/17] FeaturesPipeline\n",
      "Loading DecompositionFeatures_by_pipeline_f1bdab22b4e687e4e2843153dde1b411 (train)...\n",
      "Loading DecompositionFeatures_by_pipeline_f1bdab22b4e687e4e2843153dde1b411 (test)...\n",
      "[7/17] FeaturesPipeline\n",
      "Loading DecompositionFeatures_by_pipeline_b28598605079ebf2b1da7d8e506fa055 (train)...\n",
      "Loading DecompositionFeatures_by_pipeline_b28598605079ebf2b1da7d8e506fa055 (test)...\n",
      "[8/17] FeaturesPipeline\n",
      "Loading RulebaseName_by_pipeline_5e7c2c12a962cd3598493ba7310d24b3 (train)...\n",
      "Loading RulebaseName_by_pipeline_5e7c2c12a962cd3598493ba7310d24b3 (test)...\n",
      "[9/17] ExtraTableJoin\n",
      "Loading ExtraTableJoin_8d52a52c3062340cf1583c44eb28f176 (train)...\n",
      "Loading ExtraTableJoin_8d52a52c3062340cf1583c44eb28f176 (test)...\n",
      "[10/17] ExtraTableJoin\n",
      "Loading ExtraTableJoin_6b76d80ae98aabd50542b709bc8a27d6 (train)...\n",
      "Loading ExtraTableJoin_6b76d80ae98aabd50542b709bc8a27d6 (test)...\n",
      "[11/17] ExtraTableJoin\n",
      "Loading ExtraTableJoin_33e66102c7f4ffa09dc008d33f8861d0 (train)...\n",
      "Loading ExtraTableJoin_33e66102c7f4ffa09dc008d33f8861d0 (test)...\n",
      "[12/17] ClusteringFeatures\n",
      "Loading ClusteringFeatures_0b7c5d52729b0937cc3a6271b54f909c (train)...\n",
      "Loading ClusteringFeatures_0b7c5d52729b0937cc3a6271b54f909c (test)...\n",
      "[13/17] ClusteringFeatures\n",
      "Loading ClusteringFeatures_2e7edbacabe5a911173c55eb90445ba1 (train)...\n",
      "Loading ClusteringFeatures_2e7edbacabe5a911173c55eb90445ba1 (test)...\n",
      "[14/17] FeaturesPipeline\n",
      "Loading ClusteringFeatures_by_pipeline_44035df4ea66c188fa6088086b8a541e (train)...\n",
      "Loading ClusteringFeatures_by_pipeline_44035df4ea66c188fa6088086b8a541e (test)...\n",
      "[15/17] FeaturesPipeline\n",
      "Loading ClusteringFeatures_by_pipeline_068b6d1de9328042fb5a23855a0fdf59 (train)...\n",
      "Loading ClusteringFeatures_by_pipeline_068b6d1de9328042fb5a23855a0fdf59 (test)...\n",
      "[16/17] FeaturesPipeline\n",
      "Loading DecompositionFeatures_by_pipeline_f9d8ada17025bc003421df2ae38a9742 (train)...\n",
      "Loading DecompositionFeatures_by_pipeline_f9d8ada17025bc003421df2ae38a9742 (test)...\n",
      "[17/17] ReviewedMonth\n",
      "Loading ReviewedMonth_99914b932bd37a50b983c5e7c90ae93b (train)...\n",
      "Loading ReviewedMonth_99914b932bd37a50b983c5e7c90ae93b (test)...\n",
      "Fold : 1\n"
     ]
    },
    {
     "name": "stderr",
     "output_type": "stream",
     "text": [
      "/Users/hikaru/github/ds-monorepo/.venv/lib/python3.8/site-packages/lightgbm/sklearn.py:726: UserWarning: 'early_stopping_rounds' argument is deprecated and will be removed in a future release of LightGBM. Pass 'early_stopping()' callback via 'callbacks' argument instead.\n",
      "  _log_warning(\"'early_stopping_rounds' argument is deprecated and will be removed in a future release of LightGBM. \"\n",
      "/Users/hikaru/github/ds-monorepo/.venv/lib/python3.8/site-packages/lightgbm/sklearn.py:736: UserWarning: 'verbose' argument is deprecated and will be removed in a future release of LightGBM. Pass 'log_evaluation()' callback via 'callbacks' argument instead.\n",
      "  _log_warning(\"'verbose' argument is deprecated and will be removed in a future release of LightGBM. \"\n"
     ]
    },
    {
     "name": "stdout",
     "output_type": "stream",
     "text": [
      "[100]\ttrain's rmse: 0.44603\tvalid's rmse: 0.735064\n",
      "[200]\ttrain's rmse: 0.336985\tvalid's rmse: 0.741347\n",
      "Fold : 2\n"
     ]
    },
    {
     "name": "stderr",
     "output_type": "stream",
     "text": [
      "/Users/hikaru/github/ds-monorepo/.venv/lib/python3.8/site-packages/lightgbm/sklearn.py:726: UserWarning: 'early_stopping_rounds' argument is deprecated and will be removed in a future release of LightGBM. Pass 'early_stopping()' callback via 'callbacks' argument instead.\n",
      "  _log_warning(\"'early_stopping_rounds' argument is deprecated and will be removed in a future release of LightGBM. \"\n",
      "/Users/hikaru/github/ds-monorepo/.venv/lib/python3.8/site-packages/lightgbm/sklearn.py:736: UserWarning: 'verbose' argument is deprecated and will be removed in a future release of LightGBM. Pass 'log_evaluation()' callback via 'callbacks' argument instead.\n",
      "  _log_warning(\"'verbose' argument is deprecated and will be removed in a future release of LightGBM. \"\n"
     ]
    },
    {
     "name": "stdout",
     "output_type": "stream",
     "text": [
      "[100]\ttrain's rmse: 0.428274\tvalid's rmse: 1.01634\n",
      "[200]\ttrain's rmse: 0.322284\tvalid's rmse: 1.01335\n",
      "[300]\ttrain's rmse: 0.255268\tvalid's rmse: 1.01286\n",
      "Fold : 3\n"
     ]
    },
    {
     "name": "stderr",
     "output_type": "stream",
     "text": [
      "/Users/hikaru/github/ds-monorepo/.venv/lib/python3.8/site-packages/lightgbm/sklearn.py:726: UserWarning: 'early_stopping_rounds' argument is deprecated and will be removed in a future release of LightGBM. Pass 'early_stopping()' callback via 'callbacks' argument instead.\n",
      "  _log_warning(\"'early_stopping_rounds' argument is deprecated and will be removed in a future release of LightGBM. \"\n",
      "/Users/hikaru/github/ds-monorepo/.venv/lib/python3.8/site-packages/lightgbm/sklearn.py:736: UserWarning: 'verbose' argument is deprecated and will be removed in a future release of LightGBM. Pass 'log_evaluation()' callback via 'callbacks' argument instead.\n",
      "  _log_warning(\"'verbose' argument is deprecated and will be removed in a future release of LightGBM. \"\n"
     ]
    },
    {
     "name": "stdout",
     "output_type": "stream",
     "text": [
      "[100]\ttrain's rmse: 0.448472\tvalid's rmse: 0.742136\n",
      "Fold : 4\n"
     ]
    },
    {
     "name": "stderr",
     "output_type": "stream",
     "text": [
      "/Users/hikaru/github/ds-monorepo/.venv/lib/python3.8/site-packages/lightgbm/sklearn.py:726: UserWarning: 'early_stopping_rounds' argument is deprecated and will be removed in a future release of LightGBM. Pass 'early_stopping()' callback via 'callbacks' argument instead.\n",
      "  _log_warning(\"'early_stopping_rounds' argument is deprecated and will be removed in a future release of LightGBM. \"\n",
      "/Users/hikaru/github/ds-monorepo/.venv/lib/python3.8/site-packages/lightgbm/sklearn.py:736: UserWarning: 'verbose' argument is deprecated and will be removed in a future release of LightGBM. Pass 'log_evaluation()' callback via 'callbacks' argument instead.\n",
      "  _log_warning(\"'verbose' argument is deprecated and will be removed in a future release of LightGBM. \"\n"
     ]
    },
    {
     "name": "stdout",
     "output_type": "stream",
     "text": [
      "[100]\ttrain's rmse: 0.446314\tvalid's rmse: 0.823509\n",
      "[200]\ttrain's rmse: 0.333095\tvalid's rmse: 0.813325\n",
      "[300]\ttrain's rmse: 0.263039\tvalid's rmse: 0.808544\n",
      "[400]\ttrain's rmse: 0.212329\tvalid's rmse: 0.803592\n",
      "Fold : 5\n"
     ]
    },
    {
     "name": "stderr",
     "output_type": "stream",
     "text": [
      "/Users/hikaru/github/ds-monorepo/.venv/lib/python3.8/site-packages/lightgbm/sklearn.py:726: UserWarning: 'early_stopping_rounds' argument is deprecated and will be removed in a future release of LightGBM. Pass 'early_stopping()' callback via 'callbacks' argument instead.\n",
      "  _log_warning(\"'early_stopping_rounds' argument is deprecated and will be removed in a future release of LightGBM. \"\n",
      "/Users/hikaru/github/ds-monorepo/.venv/lib/python3.8/site-packages/lightgbm/sklearn.py:736: UserWarning: 'verbose' argument is deprecated and will be removed in a future release of LightGBM. Pass 'log_evaluation()' callback via 'callbacks' argument instead.\n",
      "  _log_warning(\"'verbose' argument is deprecated and will be removed in a future release of LightGBM. \"\n"
     ]
    },
    {
     "name": "stdout",
     "output_type": "stream",
     "text": [
      "[100]\ttrain's rmse: 0.435854\tvalid's rmse: 0.877974\n",
      "[WARNING] parameter 'use_prev_only' is not specified for 'pipeline'. So default will be used.\n",
      "[WARNING] parameter 'use_prev_only' is not specified for 'pipeline'. So default will be used.\n",
      "[WARNING] parameter 'use_prev_only' is not specified for 'pipeline'. So default will be used.\n",
      "[WARNING] parameter 'use_prev_only' is not specified for 'pipeline'. So default will be used.\n",
      "[WARNING] parameter 'input_cols' is not specified for 'dec'. So default will be used.\n",
      "[WARNING] parameter 'input_cols' is not specified for 'dec'. So default will be used.\n",
      "[WARNING] parameter 'use_prev_only' is not specified for 'pipeline'. So default will be used.\n",
      "[WARNING] parameter 'use_prev_only' is not specified for 'pipeline'. So default will be used.\n",
      "[WARNING] parameter 'use_prev_only' is not specified for 'pipeline'. So default will be used.\n",
      "[WARNING] parameter 'input_cols' is not specified for 'dec'. So default will be used.\n",
      "[1/17] DatetimeFeatures\n",
      "Loading DatetimeFeatures_90d1adf771e1730a7212eb9a7a7b0d3e (train)...\n",
      "Loading DatetimeFeatures_90d1adf771e1730a7212eb9a7a7b0d3e (test)...\n",
      "[2/17] FeaturesPipeline\n",
      "Loading WordCountVectorizer_by_pipeline_5c2e5e9f6d8264592dcca4f3af6d1b50 (train)...\n",
      "Loading WordCountVectorizer_by_pipeline_5c2e5e9f6d8264592dcca4f3af6d1b50 (test)...\n",
      "[3/17] FeaturesPipeline\n",
      "Loading WordCountVectorizer_by_pipeline_87d2e943b5b0f59fd4da386de6f0ba51 (train)...\n",
      "Loading WordCountVectorizer_by_pipeline_87d2e943b5b0f59fd4da386de6f0ba51 (test)...\n",
      "[4/17] FeaturesPipeline\n",
      "Loading WordCountVectorizer_by_pipeline_37472898aeef2a25348b77118eb04d65 (train)...\n",
      "Loading WordCountVectorizer_by_pipeline_37472898aeef2a25348b77118eb04d65 (test)...\n",
      "[5/17] FeaturesPipeline\n",
      "Loading WordCountVectorizer_by_pipeline_03cf258cfb18d14d5b780696814ac6ae (train)...\n",
      "Loading WordCountVectorizer_by_pipeline_03cf258cfb18d14d5b780696814ac6ae (test)...\n",
      "[6/17] FeaturesPipeline\n",
      "Loading DecompositionFeatures_by_pipeline_f1bdab22b4e687e4e2843153dde1b411 (train)...\n",
      "Loading DecompositionFeatures_by_pipeline_f1bdab22b4e687e4e2843153dde1b411 (test)...\n",
      "[7/17] FeaturesPipeline\n",
      "Loading DecompositionFeatures_by_pipeline_b28598605079ebf2b1da7d8e506fa055 (train)...\n",
      "Loading DecompositionFeatures_by_pipeline_b28598605079ebf2b1da7d8e506fa055 (test)...\n",
      "[8/17] FeaturesPipeline\n",
      "Loading RulebaseName_by_pipeline_5e7c2c12a962cd3598493ba7310d24b3 (train)...\n",
      "Loading RulebaseName_by_pipeline_5e7c2c12a962cd3598493ba7310d24b3 (test)...\n",
      "[9/17] ExtraTableJoin\n",
      "Loading ExtraTableJoin_8d52a52c3062340cf1583c44eb28f176 (train)...\n",
      "Loading ExtraTableJoin_8d52a52c3062340cf1583c44eb28f176 (test)...\n",
      "[10/17] ExtraTableJoin\n",
      "Loading ExtraTableJoin_6b76d80ae98aabd50542b709bc8a27d6 (train)...\n",
      "Loading ExtraTableJoin_6b76d80ae98aabd50542b709bc8a27d6 (test)...\n",
      "[11/17] ExtraTableJoin\n",
      "Loading ExtraTableJoin_33e66102c7f4ffa09dc008d33f8861d0 (train)...\n",
      "Loading ExtraTableJoin_33e66102c7f4ffa09dc008d33f8861d0 (test)...\n",
      "[12/17] ClusteringFeatures\n",
      "Loading ClusteringFeatures_0b7c5d52729b0937cc3a6271b54f909c (train)...\n",
      "Loading ClusteringFeatures_0b7c5d52729b0937cc3a6271b54f909c (test)...\n",
      "[13/17] ClusteringFeatures\n",
      "Loading ClusteringFeatures_2e7edbacabe5a911173c55eb90445ba1 (train)...\n",
      "Loading ClusteringFeatures_2e7edbacabe5a911173c55eb90445ba1 (test)...\n",
      "[14/17] FeaturesPipeline\n",
      "Loading ClusteringFeatures_by_pipeline_44035df4ea66c188fa6088086b8a541e (train)...\n",
      "Loading ClusteringFeatures_by_pipeline_44035df4ea66c188fa6088086b8a541e (test)...\n",
      "[15/17] FeaturesPipeline\n",
      "Loading ClusteringFeatures_by_pipeline_068b6d1de9328042fb5a23855a0fdf59 (train)...\n",
      "Loading ClusteringFeatures_by_pipeline_068b6d1de9328042fb5a23855a0fdf59 (test)...\n",
      "[16/17] FeaturesPipeline\n",
      "Loading DecompositionFeatures_by_pipeline_f9d8ada17025bc003421df2ae38a9742 (train)...\n",
      "Loading DecompositionFeatures_by_pipeline_f9d8ada17025bc003421df2ae38a9742 (test)...\n",
      "[17/17] ReviewedMonth\n",
      "Loading ReviewedMonth_99914b932bd37a50b983c5e7c90ae93b (train)...\n",
      "Loading ReviewedMonth_99914b932bd37a50b983c5e7c90ae93b (test)...\n",
      "Fold : 1\n"
     ]
    },
    {
     "name": "stderr",
     "output_type": "stream",
     "text": [
      "/Users/hikaru/github/ds-monorepo/.venv/lib/python3.8/site-packages/lightgbm/sklearn.py:726: UserWarning: 'early_stopping_rounds' argument is deprecated and will be removed in a future release of LightGBM. Pass 'early_stopping()' callback via 'callbacks' argument instead.\n",
      "  _log_warning(\"'early_stopping_rounds' argument is deprecated and will be removed in a future release of LightGBM. \"\n",
      "/Users/hikaru/github/ds-monorepo/.venv/lib/python3.8/site-packages/lightgbm/sklearn.py:736: UserWarning: 'verbose' argument is deprecated and will be removed in a future release of LightGBM. Pass 'log_evaluation()' callback via 'callbacks' argument instead.\n",
      "  _log_warning(\"'verbose' argument is deprecated and will be removed in a future release of LightGBM. \"\n"
     ]
    },
    {
     "name": "stdout",
     "output_type": "stream",
     "text": [
      "[100]\ttrain's rmse: 0.453204\tvalid's rmse: 0.760231\n",
      "Fold : 2\n"
     ]
    },
    {
     "name": "stderr",
     "output_type": "stream",
     "text": [
      "/Users/hikaru/github/ds-monorepo/.venv/lib/python3.8/site-packages/lightgbm/sklearn.py:726: UserWarning: 'early_stopping_rounds' argument is deprecated and will be removed in a future release of LightGBM. Pass 'early_stopping()' callback via 'callbacks' argument instead.\n",
      "  _log_warning(\"'early_stopping_rounds' argument is deprecated and will be removed in a future release of LightGBM. \"\n",
      "/Users/hikaru/github/ds-monorepo/.venv/lib/python3.8/site-packages/lightgbm/sklearn.py:736: UserWarning: 'verbose' argument is deprecated and will be removed in a future release of LightGBM. Pass 'log_evaluation()' callback via 'callbacks' argument instead.\n",
      "  _log_warning(\"'verbose' argument is deprecated and will be removed in a future release of LightGBM. \"\n"
     ]
    },
    {
     "name": "stdout",
     "output_type": "stream",
     "text": [
      "[100]\ttrain's rmse: 0.431239\tvalid's rmse: 0.904404\n",
      "Fold : 3\n"
     ]
    },
    {
     "name": "stderr",
     "output_type": "stream",
     "text": [
      "/Users/hikaru/github/ds-monorepo/.venv/lib/python3.8/site-packages/lightgbm/sklearn.py:726: UserWarning: 'early_stopping_rounds' argument is deprecated and will be removed in a future release of LightGBM. Pass 'early_stopping()' callback via 'callbacks' argument instead.\n",
      "  _log_warning(\"'early_stopping_rounds' argument is deprecated and will be removed in a future release of LightGBM. \"\n",
      "/Users/hikaru/github/ds-monorepo/.venv/lib/python3.8/site-packages/lightgbm/sklearn.py:736: UserWarning: 'verbose' argument is deprecated and will be removed in a future release of LightGBM. Pass 'log_evaluation()' callback via 'callbacks' argument instead.\n",
      "  _log_warning(\"'verbose' argument is deprecated and will be removed in a future release of LightGBM. \"\n"
     ]
    },
    {
     "name": "stdout",
     "output_type": "stream",
     "text": [
      "[100]\ttrain's rmse: 0.439618\tvalid's rmse: 0.766185\n",
      "[200]\ttrain's rmse: 0.3314\tvalid's rmse: 0.768305\n",
      "Fold : 4\n"
     ]
    },
    {
     "name": "stderr",
     "output_type": "stream",
     "text": [
      "/Users/hikaru/github/ds-monorepo/.venv/lib/python3.8/site-packages/lightgbm/sklearn.py:726: UserWarning: 'early_stopping_rounds' argument is deprecated and will be removed in a future release of LightGBM. Pass 'early_stopping()' callback via 'callbacks' argument instead.\n",
      "  _log_warning(\"'early_stopping_rounds' argument is deprecated and will be removed in a future release of LightGBM. \"\n",
      "/Users/hikaru/github/ds-monorepo/.venv/lib/python3.8/site-packages/lightgbm/sklearn.py:736: UserWarning: 'verbose' argument is deprecated and will be removed in a future release of LightGBM. Pass 'log_evaluation()' callback via 'callbacks' argument instead.\n",
      "  _log_warning(\"'verbose' argument is deprecated and will be removed in a future release of LightGBM. \"\n"
     ]
    },
    {
     "name": "stdout",
     "output_type": "stream",
     "text": [
      "[100]\ttrain's rmse: 0.439186\tvalid's rmse: 0.91829\n",
      "[200]\ttrain's rmse: 0.332316\tvalid's rmse: 0.910271\n",
      "Fold : 5\n"
     ]
    },
    {
     "name": "stderr",
     "output_type": "stream",
     "text": [
      "/Users/hikaru/github/ds-monorepo/.venv/lib/python3.8/site-packages/lightgbm/sklearn.py:726: UserWarning: 'early_stopping_rounds' argument is deprecated and will be removed in a future release of LightGBM. Pass 'early_stopping()' callback via 'callbacks' argument instead.\n",
      "  _log_warning(\"'early_stopping_rounds' argument is deprecated and will be removed in a future release of LightGBM. \"\n",
      "/Users/hikaru/github/ds-monorepo/.venv/lib/python3.8/site-packages/lightgbm/sklearn.py:736: UserWarning: 'verbose' argument is deprecated and will be removed in a future release of LightGBM. Pass 'log_evaluation()' callback via 'callbacks' argument instead.\n",
      "  _log_warning(\"'verbose' argument is deprecated and will be removed in a future release of LightGBM. \"\n"
     ]
    },
    {
     "name": "stdout",
     "output_type": "stream",
     "text": [
      "[100]\ttrain's rmse: 0.442551\tvalid's rmse: 0.865619\n",
      "[WARNING] parameter 'use_prev_only' is not specified for 'pipeline'. So default will be used.\n",
      "[WARNING] parameter 'use_prev_only' is not specified for 'pipeline'. So default will be used.\n",
      "[WARNING] parameter 'use_prev_only' is not specified for 'pipeline'. So default will be used.\n",
      "[WARNING] parameter 'use_prev_only' is not specified for 'pipeline'. So default will be used.\n",
      "[WARNING] parameter 'input_cols' is not specified for 'dec'. So default will be used.\n",
      "[WARNING] parameter 'input_cols' is not specified for 'dec'. So default will be used.\n",
      "[WARNING] parameter 'use_prev_only' is not specified for 'pipeline'. So default will be used.\n",
      "[WARNING] parameter 'use_prev_only' is not specified for 'pipeline'. So default will be used.\n",
      "[WARNING] parameter 'use_prev_only' is not specified for 'pipeline'. So default will be used.\n",
      "[WARNING] parameter 'input_cols' is not specified for 'dec'. So default will be used.\n",
      "[1/17] DatetimeFeatures\n",
      "Loading DatetimeFeatures_90d1adf771e1730a7212eb9a7a7b0d3e (train)...\n",
      "Loading DatetimeFeatures_90d1adf771e1730a7212eb9a7a7b0d3e (test)...\n",
      "[2/17] FeaturesPipeline\n",
      "Loading WordCountVectorizer_by_pipeline_5c2e5e9f6d8264592dcca4f3af6d1b50 (train)...\n",
      "Loading WordCountVectorizer_by_pipeline_5c2e5e9f6d8264592dcca4f3af6d1b50 (test)...\n",
      "[3/17] FeaturesPipeline\n",
      "Loading WordCountVectorizer_by_pipeline_87d2e943b5b0f59fd4da386de6f0ba51 (train)...\n",
      "Loading WordCountVectorizer_by_pipeline_87d2e943b5b0f59fd4da386de6f0ba51 (test)...\n",
      "[4/17] FeaturesPipeline\n",
      "Loading WordCountVectorizer_by_pipeline_37472898aeef2a25348b77118eb04d65 (train)...\n",
      "Loading WordCountVectorizer_by_pipeline_37472898aeef2a25348b77118eb04d65 (test)...\n",
      "[5/17] FeaturesPipeline\n",
      "Loading WordCountVectorizer_by_pipeline_03cf258cfb18d14d5b780696814ac6ae (train)...\n",
      "Loading WordCountVectorizer_by_pipeline_03cf258cfb18d14d5b780696814ac6ae (test)...\n",
      "[6/17] FeaturesPipeline\n",
      "Loading DecompositionFeatures_by_pipeline_f1bdab22b4e687e4e2843153dde1b411 (train)...\n",
      "Loading DecompositionFeatures_by_pipeline_f1bdab22b4e687e4e2843153dde1b411 (test)...\n",
      "[7/17] FeaturesPipeline\n",
      "Loading DecompositionFeatures_by_pipeline_b28598605079ebf2b1da7d8e506fa055 (train)...\n",
      "Loading DecompositionFeatures_by_pipeline_b28598605079ebf2b1da7d8e506fa055 (test)...\n",
      "[8/17] FeaturesPipeline\n",
      "Loading RulebaseName_by_pipeline_5e7c2c12a962cd3598493ba7310d24b3 (train)...\n",
      "Loading RulebaseName_by_pipeline_5e7c2c12a962cd3598493ba7310d24b3 (test)...\n",
      "[9/17] ExtraTableJoin\n",
      "Loading ExtraTableJoin_8d52a52c3062340cf1583c44eb28f176 (train)...\n",
      "Loading ExtraTableJoin_8d52a52c3062340cf1583c44eb28f176 (test)...\n",
      "[10/17] ExtraTableJoin\n",
      "Loading ExtraTableJoin_6b76d80ae98aabd50542b709bc8a27d6 (train)...\n",
      "Loading ExtraTableJoin_6b76d80ae98aabd50542b709bc8a27d6 (test)...\n",
      "[11/17] ExtraTableJoin\n",
      "Loading ExtraTableJoin_33e66102c7f4ffa09dc008d33f8861d0 (train)...\n",
      "Loading ExtraTableJoin_33e66102c7f4ffa09dc008d33f8861d0 (test)...\n",
      "[12/17] ClusteringFeatures\n",
      "Loading ClusteringFeatures_0b7c5d52729b0937cc3a6271b54f909c (train)...\n",
      "Loading ClusteringFeatures_0b7c5d52729b0937cc3a6271b54f909c (test)...\n",
      "[13/17] ClusteringFeatures\n",
      "Loading ClusteringFeatures_2e7edbacabe5a911173c55eb90445ba1 (train)...\n",
      "Loading ClusteringFeatures_2e7edbacabe5a911173c55eb90445ba1 (test)...\n",
      "[14/17] FeaturesPipeline\n",
      "Loading ClusteringFeatures_by_pipeline_44035df4ea66c188fa6088086b8a541e (train)...\n",
      "Loading ClusteringFeatures_by_pipeline_44035df4ea66c188fa6088086b8a541e (test)...\n",
      "[15/17] FeaturesPipeline\n",
      "Loading ClusteringFeatures_by_pipeline_068b6d1de9328042fb5a23855a0fdf59 (train)...\n",
      "Loading ClusteringFeatures_by_pipeline_068b6d1de9328042fb5a23855a0fdf59 (test)...\n",
      "[16/17] FeaturesPipeline\n",
      "Loading DecompositionFeatures_by_pipeline_f9d8ada17025bc003421df2ae38a9742 (train)...\n",
      "Loading DecompositionFeatures_by_pipeline_f9d8ada17025bc003421df2ae38a9742 (test)...\n",
      "[17/17] ReviewedMonth\n",
      "Loading ReviewedMonth_99914b932bd37a50b983c5e7c90ae93b (train)...\n",
      "Loading ReviewedMonth_99914b932bd37a50b983c5e7c90ae93b (test)...\n",
      "Fold : 1\n"
     ]
    },
    {
     "name": "stderr",
     "output_type": "stream",
     "text": [
      "/Users/hikaru/github/ds-monorepo/.venv/lib/python3.8/site-packages/lightgbm/sklearn.py:726: UserWarning: 'early_stopping_rounds' argument is deprecated and will be removed in a future release of LightGBM. Pass 'early_stopping()' callback via 'callbacks' argument instead.\n",
      "  _log_warning(\"'early_stopping_rounds' argument is deprecated and will be removed in a future release of LightGBM. \"\n",
      "/Users/hikaru/github/ds-monorepo/.venv/lib/python3.8/site-packages/lightgbm/sklearn.py:736: UserWarning: 'verbose' argument is deprecated and will be removed in a future release of LightGBM. Pass 'log_evaluation()' callback via 'callbacks' argument instead.\n",
      "  _log_warning(\"'verbose' argument is deprecated and will be removed in a future release of LightGBM. \"\n"
     ]
    },
    {
     "name": "stdout",
     "output_type": "stream",
     "text": [
      "[100]\ttrain's rmse: 0.4492\tvalid's rmse: 0.731968\n",
      "[200]\ttrain's rmse: 0.334911\tvalid's rmse: 0.728632\n",
      "[300]\ttrain's rmse: 0.262472\tvalid's rmse: 0.726518\n",
      "Fold : 2\n"
     ]
    },
    {
     "name": "stderr",
     "output_type": "stream",
     "text": [
      "/Users/hikaru/github/ds-monorepo/.venv/lib/python3.8/site-packages/lightgbm/sklearn.py:726: UserWarning: 'early_stopping_rounds' argument is deprecated and will be removed in a future release of LightGBM. Pass 'early_stopping()' callback via 'callbacks' argument instead.\n",
      "  _log_warning(\"'early_stopping_rounds' argument is deprecated and will be removed in a future release of LightGBM. \"\n",
      "/Users/hikaru/github/ds-monorepo/.venv/lib/python3.8/site-packages/lightgbm/sklearn.py:736: UserWarning: 'verbose' argument is deprecated and will be removed in a future release of LightGBM. Pass 'log_evaluation()' callback via 'callbacks' argument instead.\n",
      "  _log_warning(\"'verbose' argument is deprecated and will be removed in a future release of LightGBM. \"\n"
     ]
    },
    {
     "name": "stdout",
     "output_type": "stream",
     "text": [
      "[100]\ttrain's rmse: 0.449795\tvalid's rmse: 0.81063\n",
      "[200]\ttrain's rmse: 0.339703\tvalid's rmse: 0.79769\n",
      "Fold : 3\n"
     ]
    },
    {
     "name": "stderr",
     "output_type": "stream",
     "text": [
      "/Users/hikaru/github/ds-monorepo/.venv/lib/python3.8/site-packages/lightgbm/sklearn.py:726: UserWarning: 'early_stopping_rounds' argument is deprecated and will be removed in a future release of LightGBM. Pass 'early_stopping()' callback via 'callbacks' argument instead.\n",
      "  _log_warning(\"'early_stopping_rounds' argument is deprecated and will be removed in a future release of LightGBM. \"\n",
      "/Users/hikaru/github/ds-monorepo/.venv/lib/python3.8/site-packages/lightgbm/sklearn.py:736: UserWarning: 'verbose' argument is deprecated and will be removed in a future release of LightGBM. Pass 'log_evaluation()' callback via 'callbacks' argument instead.\n",
      "  _log_warning(\"'verbose' argument is deprecated and will be removed in a future release of LightGBM. \"\n"
     ]
    },
    {
     "name": "stdout",
     "output_type": "stream",
     "text": [
      "[100]\ttrain's rmse: 0.442608\tvalid's rmse: 0.887607\n",
      "Fold : 4\n"
     ]
    },
    {
     "name": "stderr",
     "output_type": "stream",
     "text": [
      "/Users/hikaru/github/ds-monorepo/.venv/lib/python3.8/site-packages/lightgbm/sklearn.py:726: UserWarning: 'early_stopping_rounds' argument is deprecated and will be removed in a future release of LightGBM. Pass 'early_stopping()' callback via 'callbacks' argument instead.\n",
      "  _log_warning(\"'early_stopping_rounds' argument is deprecated and will be removed in a future release of LightGBM. \"\n",
      "/Users/hikaru/github/ds-monorepo/.venv/lib/python3.8/site-packages/lightgbm/sklearn.py:736: UserWarning: 'verbose' argument is deprecated and will be removed in a future release of LightGBM. Pass 'log_evaluation()' callback via 'callbacks' argument instead.\n",
      "  _log_warning(\"'verbose' argument is deprecated and will be removed in a future release of LightGBM. \"\n"
     ]
    },
    {
     "name": "stdout",
     "output_type": "stream",
     "text": [
      "[100]\ttrain's rmse: 0.425555\tvalid's rmse: 1.0158\n",
      "Fold : 5\n"
     ]
    },
    {
     "name": "stderr",
     "output_type": "stream",
     "text": [
      "/Users/hikaru/github/ds-monorepo/.venv/lib/python3.8/site-packages/lightgbm/sklearn.py:726: UserWarning: 'early_stopping_rounds' argument is deprecated and will be removed in a future release of LightGBM. Pass 'early_stopping()' callback via 'callbacks' argument instead.\n",
      "  _log_warning(\"'early_stopping_rounds' argument is deprecated and will be removed in a future release of LightGBM. \"\n",
      "/Users/hikaru/github/ds-monorepo/.venv/lib/python3.8/site-packages/lightgbm/sklearn.py:736: UserWarning: 'verbose' argument is deprecated and will be removed in a future release of LightGBM. Pass 'log_evaluation()' callback via 'callbacks' argument instead.\n",
      "  _log_warning(\"'verbose' argument is deprecated and will be removed in a future release of LightGBM. \"\n"
     ]
    },
    {
     "name": "stdout",
     "output_type": "stream",
     "text": [
      "[100]\ttrain's rmse: 0.442575\tvalid's rmse: 0.795953\n",
      "[200]\ttrain's rmse: 0.333983\tvalid's rmse: 0.799362\n",
      "[WARNING] parameter 'use_prev_only' is not specified for 'pipeline'. So default will be used.\n",
      "[WARNING] parameter 'use_prev_only' is not specified for 'pipeline'. So default will be used.\n",
      "[WARNING] parameter 'use_prev_only' is not specified for 'pipeline'. So default will be used.\n",
      "[WARNING] parameter 'use_prev_only' is not specified for 'pipeline'. So default will be used.\n",
      "[WARNING] parameter 'input_cols' is not specified for 'dec'. So default will be used.\n",
      "[WARNING] parameter 'input_cols' is not specified for 'dec'. So default will be used.\n",
      "[WARNING] parameter 'use_prev_only' is not specified for 'pipeline'. So default will be used.\n",
      "[WARNING] parameter 'use_prev_only' is not specified for 'pipeline'. So default will be used.\n",
      "[WARNING] parameter 'use_prev_only' is not specified for 'pipeline'. So default will be used.\n",
      "[WARNING] parameter 'input_cols' is not specified for 'dec'. So default will be used.\n",
      "[1/17] DatetimeFeatures\n",
      "Loading DatetimeFeatures_90d1adf771e1730a7212eb9a7a7b0d3e (train)...\n",
      "Loading DatetimeFeatures_90d1adf771e1730a7212eb9a7a7b0d3e (test)...\n",
      "[2/17] FeaturesPipeline\n",
      "Loading WordCountVectorizer_by_pipeline_5c2e5e9f6d8264592dcca4f3af6d1b50 (train)...\n",
      "Loading WordCountVectorizer_by_pipeline_5c2e5e9f6d8264592dcca4f3af6d1b50 (test)...\n",
      "[3/17] FeaturesPipeline\n",
      "Loading WordCountVectorizer_by_pipeline_87d2e943b5b0f59fd4da386de6f0ba51 (train)...\n",
      "Loading WordCountVectorizer_by_pipeline_87d2e943b5b0f59fd4da386de6f0ba51 (test)...\n",
      "[4/17] FeaturesPipeline\n",
      "Loading WordCountVectorizer_by_pipeline_37472898aeef2a25348b77118eb04d65 (train)...\n",
      "Loading WordCountVectorizer_by_pipeline_37472898aeef2a25348b77118eb04d65 (test)...\n",
      "[5/17] FeaturesPipeline\n",
      "Loading WordCountVectorizer_by_pipeline_03cf258cfb18d14d5b780696814ac6ae (train)...\n",
      "Loading WordCountVectorizer_by_pipeline_03cf258cfb18d14d5b780696814ac6ae (test)...\n",
      "[6/17] FeaturesPipeline\n",
      "Loading DecompositionFeatures_by_pipeline_f1bdab22b4e687e4e2843153dde1b411 (train)...\n",
      "Loading DecompositionFeatures_by_pipeline_f1bdab22b4e687e4e2843153dde1b411 (test)...\n",
      "[7/17] FeaturesPipeline\n",
      "Loading DecompositionFeatures_by_pipeline_b28598605079ebf2b1da7d8e506fa055 (train)...\n",
      "Loading DecompositionFeatures_by_pipeline_b28598605079ebf2b1da7d8e506fa055 (test)...\n",
      "[8/17] FeaturesPipeline\n",
      "Loading RulebaseName_by_pipeline_5e7c2c12a962cd3598493ba7310d24b3 (train)...\n",
      "Loading RulebaseName_by_pipeline_5e7c2c12a962cd3598493ba7310d24b3 (test)...\n",
      "[9/17] ExtraTableJoin\n",
      "Loading ExtraTableJoin_8d52a52c3062340cf1583c44eb28f176 (train)...\n",
      "Loading ExtraTableJoin_8d52a52c3062340cf1583c44eb28f176 (test)...\n",
      "[10/17] ExtraTableJoin\n",
      "Loading ExtraTableJoin_6b76d80ae98aabd50542b709bc8a27d6 (train)...\n",
      "Loading ExtraTableJoin_6b76d80ae98aabd50542b709bc8a27d6 (test)...\n",
      "[11/17] ExtraTableJoin\n",
      "Loading ExtraTableJoin_33e66102c7f4ffa09dc008d33f8861d0 (train)...\n",
      "Loading ExtraTableJoin_33e66102c7f4ffa09dc008d33f8861d0 (test)...\n",
      "[12/17] ClusteringFeatures\n",
      "Loading ClusteringFeatures_0b7c5d52729b0937cc3a6271b54f909c (train)...\n",
      "Loading ClusteringFeatures_0b7c5d52729b0937cc3a6271b54f909c (test)...\n",
      "[13/17] ClusteringFeatures\n",
      "Loading ClusteringFeatures_2e7edbacabe5a911173c55eb90445ba1 (train)...\n",
      "Loading ClusteringFeatures_2e7edbacabe5a911173c55eb90445ba1 (test)...\n",
      "[14/17] FeaturesPipeline\n",
      "Loading ClusteringFeatures_by_pipeline_44035df4ea66c188fa6088086b8a541e (train)...\n",
      "Loading ClusteringFeatures_by_pipeline_44035df4ea66c188fa6088086b8a541e (test)...\n",
      "[15/17] FeaturesPipeline\n",
      "Loading ClusteringFeatures_by_pipeline_068b6d1de9328042fb5a23855a0fdf59 (train)...\n",
      "Loading ClusteringFeatures_by_pipeline_068b6d1de9328042fb5a23855a0fdf59 (test)...\n",
      "[16/17] FeaturesPipeline\n",
      "Loading DecompositionFeatures_by_pipeline_f9d8ada17025bc003421df2ae38a9742 (train)...\n",
      "Loading DecompositionFeatures_by_pipeline_f9d8ada17025bc003421df2ae38a9742 (test)...\n",
      "[17/17] ReviewedMonth\n",
      "Loading ReviewedMonth_99914b932bd37a50b983c5e7c90ae93b (train)...\n",
      "Loading ReviewedMonth_99914b932bd37a50b983c5e7c90ae93b (test)...\n",
      "Fold : 1\n"
     ]
    },
    {
     "name": "stderr",
     "output_type": "stream",
     "text": [
      "/Users/hikaru/github/ds-monorepo/.venv/lib/python3.8/site-packages/lightgbm/sklearn.py:726: UserWarning: 'early_stopping_rounds' argument is deprecated and will be removed in a future release of LightGBM. Pass 'early_stopping()' callback via 'callbacks' argument instead.\n",
      "  _log_warning(\"'early_stopping_rounds' argument is deprecated and will be removed in a future release of LightGBM. \"\n",
      "/Users/hikaru/github/ds-monorepo/.venv/lib/python3.8/site-packages/lightgbm/sklearn.py:736: UserWarning: 'verbose' argument is deprecated and will be removed in a future release of LightGBM. Pass 'log_evaluation()' callback via 'callbacks' argument instead.\n",
      "  _log_warning(\"'verbose' argument is deprecated and will be removed in a future release of LightGBM. \"\n"
     ]
    },
    {
     "name": "stdout",
     "output_type": "stream",
     "text": [
      "[100]\ttrain's rmse: 0.429292\tvalid's rmse: 0.980276\n",
      "Fold : 2\n"
     ]
    },
    {
     "name": "stderr",
     "output_type": "stream",
     "text": [
      "/Users/hikaru/github/ds-monorepo/.venv/lib/python3.8/site-packages/lightgbm/sklearn.py:726: UserWarning: 'early_stopping_rounds' argument is deprecated and will be removed in a future release of LightGBM. Pass 'early_stopping()' callback via 'callbacks' argument instead.\n",
      "  _log_warning(\"'early_stopping_rounds' argument is deprecated and will be removed in a future release of LightGBM. \"\n",
      "/Users/hikaru/github/ds-monorepo/.venv/lib/python3.8/site-packages/lightgbm/sklearn.py:736: UserWarning: 'verbose' argument is deprecated and will be removed in a future release of LightGBM. Pass 'log_evaluation()' callback via 'callbacks' argument instead.\n",
      "  _log_warning(\"'verbose' argument is deprecated and will be removed in a future release of LightGBM. \"\n"
     ]
    },
    {
     "name": "stdout",
     "output_type": "stream",
     "text": [
      "[100]\ttrain's rmse: 0.441827\tvalid's rmse: 0.867739\n",
      "Fold : 3\n"
     ]
    },
    {
     "name": "stderr",
     "output_type": "stream",
     "text": [
      "/Users/hikaru/github/ds-monorepo/.venv/lib/python3.8/site-packages/lightgbm/sklearn.py:726: UserWarning: 'early_stopping_rounds' argument is deprecated and will be removed in a future release of LightGBM. Pass 'early_stopping()' callback via 'callbacks' argument instead.\n",
      "  _log_warning(\"'early_stopping_rounds' argument is deprecated and will be removed in a future release of LightGBM. \"\n",
      "/Users/hikaru/github/ds-monorepo/.venv/lib/python3.8/site-packages/lightgbm/sklearn.py:736: UserWarning: 'verbose' argument is deprecated and will be removed in a future release of LightGBM. Pass 'log_evaluation()' callback via 'callbacks' argument instead.\n",
      "  _log_warning(\"'verbose' argument is deprecated and will be removed in a future release of LightGBM. \"\n"
     ]
    },
    {
     "name": "stdout",
     "output_type": "stream",
     "text": [
      "[100]\ttrain's rmse: 0.444848\tvalid's rmse: 0.740444\n",
      "[200]\ttrain's rmse: 0.33357\tvalid's rmse: 0.737218\n",
      "Fold : 4\n"
     ]
    },
    {
     "name": "stderr",
     "output_type": "stream",
     "text": [
      "/Users/hikaru/github/ds-monorepo/.venv/lib/python3.8/site-packages/lightgbm/sklearn.py:726: UserWarning: 'early_stopping_rounds' argument is deprecated and will be removed in a future release of LightGBM. Pass 'early_stopping()' callback via 'callbacks' argument instead.\n",
      "  _log_warning(\"'early_stopping_rounds' argument is deprecated and will be removed in a future release of LightGBM. \"\n",
      "/Users/hikaru/github/ds-monorepo/.venv/lib/python3.8/site-packages/lightgbm/sklearn.py:736: UserWarning: 'verbose' argument is deprecated and will be removed in a future release of LightGBM. Pass 'log_evaluation()' callback via 'callbacks' argument instead.\n",
      "  _log_warning(\"'verbose' argument is deprecated and will be removed in a future release of LightGBM. \"\n"
     ]
    },
    {
     "name": "stdout",
     "output_type": "stream",
     "text": [
      "[100]\ttrain's rmse: 0.447404\tvalid's rmse: 0.739261\n",
      "Fold : 5\n"
     ]
    },
    {
     "name": "stderr",
     "output_type": "stream",
     "text": [
      "/Users/hikaru/github/ds-monorepo/.venv/lib/python3.8/site-packages/lightgbm/sklearn.py:726: UserWarning: 'early_stopping_rounds' argument is deprecated and will be removed in a future release of LightGBM. Pass 'early_stopping()' callback via 'callbacks' argument instead.\n",
      "  _log_warning(\"'early_stopping_rounds' argument is deprecated and will be removed in a future release of LightGBM. \"\n",
      "/Users/hikaru/github/ds-monorepo/.venv/lib/python3.8/site-packages/lightgbm/sklearn.py:736: UserWarning: 'verbose' argument is deprecated and will be removed in a future release of LightGBM. Pass 'log_evaluation()' callback via 'callbacks' argument instead.\n",
      "  _log_warning(\"'verbose' argument is deprecated and will be removed in a future release of LightGBM. \"\n"
     ]
    },
    {
     "name": "stdout",
     "output_type": "stream",
     "text": [
      "[100]\ttrain's rmse: 0.43823\tvalid's rmse: 0.907723\n",
      "Layer 1\n",
      "Fold : 1\n",
      "Fold : 2\n",
      "Fold : 3\n",
      "Fold : 4\n",
      "Fold : 5\n"
     ]
    },
    {
     "data": {
      "text/plain": [
       "0.824543049032017"
      ]
     },
     "execution_count": 5,
     "metadata": {},
     "output_type": "execute_result"
    }
   ],
   "source": [
    "from tools.ensemble.stacking_runner import StackingRunner\n",
    "\n",
    "output_list=[main(seed=seed,settings=settings,depth=depth,unused_cols=unused_cols,train=train,test=test) for seed in [1,2,3,4,5]]\n",
    "\n",
    "ensemble_params = {\n",
    "    \"target_col\":\"y\",\n",
    "    \"unused_cols\": None,\n",
    "    \"folds_gen_settings\": {\n",
    "        \"fold_num\" : 5,\n",
    "        \"model_str\" : \"group\", # kfold, stratified, group, stratified_group\n",
    "        \"seed\": 42,\n",
    "        \"params\" : {\"target_col\": \"y\", \"key_col\": \"host_id\"}\n",
    "    }, \n",
    "    \"trainer_params\": {\n",
    "        \"model_str\": \"basic\",\n",
    "        \"target_col\": \"y\",\n",
    "        \"params\": None,\n",
    "        \"seed\" : 42\n",
    "    },\n",
    "    \"use_original_cols\": False\n",
    "}\n",
    "stacking_settings = [[\"avg_rmsle\"]]\n",
    "stacking_runner=StackingRunner(settings=stacking_settings,shared_params=ensemble_params)\n",
    "\n",
    "\n",
    "stack_output=stacking_runner.run(output_list,train,test)\n",
    "stack_output[-1][0][\"score\"]"
   ]
  },
  {
   "cell_type": "code",
   "execution_count": 6,
   "metadata": {},
   "outputs": [],
   "source": [
    "submit_df = pd.DataFrame({'y': stack_output[-1][0][\"pred\"]})\n",
    "submit_df.index.name = 'id'\n",
    "submit_df.to_csv('data/subs/test.csv')"
   ]
  },
  {
   "cell_type": "code",
   "execution_count": null,
   "metadata": {},
   "outputs": [],
   "source": []
  }
 ],
 "metadata": {
  "interpreter": {
   "hash": "cbd86f31783cca70399c6c48c3f5bc4290f66e841790a87d1477b9f5b727528a"
  },
  "kernelspec": {
   "display_name": "Python 3.8.11 ('.venv': poetry)",
   "language": "python",
   "name": "python3"
  },
  "language_info": {
   "codemirror_mode": {
    "name": "ipython",
    "version": 3
   },
   "file_extension": ".py",
   "mimetype": "text/x-python",
   "name": "python",
   "nbconvert_exporter": "python",
   "pygments_lexer": "ipython3",
   "version": "3.8.11"
  },
  "orig_nbformat": 4
 },
 "nbformat": 4,
 "nbformat_minor": 2
}
